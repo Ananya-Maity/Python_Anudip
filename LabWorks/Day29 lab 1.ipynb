{
 "cells": [
  {
   "cell_type": "markdown",
   "id": "6e94e90e-6403-45a7-bd54-50066a54ed41",
   "metadata": {},
   "source": [
    "Lab1: Write a Pandas program to create a Pivot table and find the total sale\n",
    "amount region wise, manager wise, sales man wise.\n",
    "\n"
   ]
  },
  {
   "cell_type": "code",
   "execution_count": 1,
   "id": "f3aeb770-2a15-4313-b12a-b04541e07ab4",
   "metadata": {},
   "outputs": [],
   "source": [
    "import pandas as pd\n",
    "import numpy as np"
   ]
  },
  {
   "cell_type": "code",
   "execution_count": 2,
   "id": "6c3b1e41-561e-442d-8f6e-7b573f12e99c",
   "metadata": {},
   "outputs": [
    {
     "name": "stdout",
     "output_type": "stream",
     "text": [
      "    Region  Manager   SalesMan          Item  Units  Unit_price  Sale_amt\n",
      "0     East   Martha  Alexander    Television     95      1198.0  113810.0\n",
      "1  Central  Hermann     Shelli  Home Theater     50       500.0   25000.0\n",
      "2  Central  Hermann       Luis    Television     36      1198.0   43128.0\n",
      "3  Central  Timothy      David    Cell Phone     27       225.0    6075.0\n",
      "4     West  Timothy    Stephen    Television     56      1198.0   67088.0\n"
     ]
    }
   ],
   "source": [
    "# Create pivot table for item wise unit sold.\n",
    "df=pd.read_csv('salesdata.csv')\n",
    "print(df.head())"
   ]
  },
  {
   "cell_type": "code",
   "execution_count": 3,
   "id": "f236aa68-0622-4fef-887c-a0d087157cd5",
   "metadata": {},
   "outputs": [
    {
     "name": "stdout",
     "output_type": "stream",
     "text": [
      "                                sum\n",
      "                           Sale_amt\n",
      "Region  Manager SalesMan           \n",
      "Central Douglas John       124016.0\n",
      "        Hermann Luis       206373.0\n",
      "                Shelli      33698.0\n",
      "                Sigal      125037.5\n",
      "        Marth   Steven      14000.0\n",
      "        Martha  Steven     185690.0\n",
      "        Timothy David      140955.0\n",
      "East    Douglas Karen       48204.0\n",
      "        Martha  Alexander  236703.0\n",
      "                Diana       36100.0\n",
      "West    Douglas Michael     66836.0\n",
      "        Timothy Stephen     88063.0\n"
     ]
    }
   ],
   "source": [
    "# Create a pivot table for showing total sales amount, based on region wise wise, manager and salesman wise\n",
    "region_manager_salesman_pivot=pd.pivot_table(df,index=['Region','Manager','SalesMan'],values=['Sale_amt'],aggfunc=['sum'])\n",
    "print(region_manager_salesman_pivot)"
   ]
  },
  {
   "cell_type": "code",
   "execution_count": 4,
   "id": "68356c85-165e-4b6c-a720-62d3eb5a01af",
   "metadata": {},
   "outputs": [
    {
     "name": "stdout",
     "output_type": "stream",
     "text": [
      "              sum\n",
      "         Sale_amt\n",
      "Region           \n",
      "Central  829769.5\n",
      "East     321007.0\n",
      "West     154899.0\n"
     ]
    }
   ],
   "source": [
    "region_wise_pivot=pd.pivot_table(df,index=['Region'],values=['Sale_amt'],aggfunc=['sum'])\n",
    "print(region_wise_pivot)"
   ]
  },
  {
   "cell_type": "code",
   "execution_count": 5,
   "id": "ee319f02-2b33-4ea3-bf82-55bb6f040505",
   "metadata": {},
   "outputs": [
    {
     "name": "stdout",
     "output_type": "stream",
     "text": [
      "              sum\n",
      "         Sale_amt\n",
      "Manager          \n",
      "Douglas  239056.0\n",
      "Hermann  365108.5\n",
      "Marth     14000.0\n",
      "Martha   458493.0\n",
      "Timothy  229018.0\n"
     ]
    }
   ],
   "source": [
    "manager_wise_pivot=pd.pivot_table(df,index=['Manager'],values=['Sale_amt'],aggfunc=['sum'])\n",
    "print(manager_wise_pivot)"
   ]
  },
  {
   "cell_type": "code",
   "execution_count": 6,
   "id": "ca671ff1-3bd0-4825-90c8-f97897e8a2a3",
   "metadata": {},
   "outputs": [
    {
     "name": "stdout",
     "output_type": "stream",
     "text": [
      "                sum\n",
      "           Sale_amt\n",
      "SalesMan           \n",
      "Alexander  236703.0\n",
      "David      140955.0\n",
      "Diana       36100.0\n",
      "John       124016.0\n",
      "Karen       48204.0\n",
      "Luis       206373.0\n",
      "Michael     66836.0\n",
      "Shelli      33698.0\n",
      "Sigal      125037.5\n",
      "Stephen     88063.0\n",
      "Steven     199690.0\n"
     ]
    }
   ],
   "source": [
    "salesman_wise_pivot=pd.pivot_table(df,index=['SalesMan'],values=['Sale_amt'],aggfunc=['sum'])\n",
    "print(salesman_wise_pivot)"
   ]
  }
 ],
 "metadata": {
  "kernelspec": {
   "display_name": "Python 3 (ipykernel)",
   "language": "python",
   "name": "python3"
  },
  "language_info": {
   "codemirror_mode": {
    "name": "ipython",
    "version": 3
   },
   "file_extension": ".py",
   "mimetype": "text/x-python",
   "name": "python",
   "nbconvert_exporter": "python",
   "pygments_lexer": "ipython3",
   "version": "3.12.0"
  }
 },
 "nbformat": 4,
 "nbformat_minor": 5
}
