{
 "cells": [
  {
   "cell_type": "markdown",
   "id": "b3105515-1dd4-4d63-8070-183646049b60",
   "metadata": {},
   "source": [
    "Lab1: Write a python program using pandas Interpolation to fill in missing values\n",
    "in the data frame.\n",
    "Input:\n",
    "df = pd.DataFrame({\"Math\":[12, 4, 7, None, 2],\n",
    "\"English\":[4, 3, 57, 3, None],\n",
    "\"Hindi\":[20, 16, None, 3, 8],\n",
    "\"Science\":[14, 3, None, None, 6]})"
   ]
  },
  {
   "cell_type": "code",
   "execution_count": 1,
   "id": "f305e428-4acf-4933-ab5f-049faca1e207",
   "metadata": {},
   "outputs": [],
   "source": [
    "import pandas as pd"
   ]
  },
  {
   "cell_type": "code",
   "execution_count": 2,
   "id": "d2650d09-bdfc-4c6f-9a92-3ebb7ef6e7b6",
   "metadata": {},
   "outputs": [
    {
     "name": "stdout",
     "output_type": "stream",
     "text": [
      "   Math  English  Hindi  Science\n",
      "0  12.0      4.0   20.0     14.0\n",
      "1   4.0      3.0   16.0      3.0\n",
      "2   7.0     57.0    NaN      NaN\n",
      "3   NaN      3.0    3.0      NaN\n",
      "4   2.0      NaN    8.0      6.0\n"
     ]
    }
   ],
   "source": [
    "# Creating the DataFrame\n",
    "df = pd.DataFrame({\"Math\":[12, 4, 7, None, 2],\n",
    "                   \"English\":[4, 3, 57, 3, None],\n",
    "                   \"Hindi\":[20, 16, None, 3, 8],\n",
    "                   \"Science\":[14,3,None,None,6]})\n",
    "print(df)"
   ]
  },
  {
   "cell_type": "code",
   "execution_count": 3,
   "id": "12257dcd-a814-4ee4-b492-fbc06de2ac51",
   "metadata": {},
   "outputs": [
    {
     "name": "stdout",
     "output_type": "stream",
     "text": [
      "   Math  English  Hindi  Science\n",
      "0  12.0      4.0   20.0     14.0\n",
      "1   4.0      3.0   16.0      3.0\n",
      "2   7.0     57.0    9.5      4.0\n",
      "3   4.5      3.0    3.0      5.0\n",
      "4   2.0      3.0    8.0      6.0\n"
     ]
    }
   ],
   "source": [
    "# Interpolate() method to fill missing values\n",
    "df.interpolate(inplace=True)\n",
    "\n",
    "# Display interpolated DataFrame\n",
    "print(df)"
   ]
  },
  {
   "cell_type": "code",
   "execution_count": null,
   "id": "48dadddd-b038-4410-9539-5b49c37a04f0",
   "metadata": {},
   "outputs": [],
   "source": []
  }
 ],
 "metadata": {
  "kernelspec": {
   "display_name": "Python 3 (ipykernel)",
   "language": "python",
   "name": "python3"
  },
  "language_info": {
   "codemirror_mode": {
    "name": "ipython",
    "version": 3
   },
   "file_extension": ".py",
   "mimetype": "text/x-python",
   "name": "python",
   "nbconvert_exporter": "python",
   "pygments_lexer": "ipython3",
   "version": "3.12.0"
  }
 },
 "nbformat": 4,
 "nbformat_minor": 5
}
