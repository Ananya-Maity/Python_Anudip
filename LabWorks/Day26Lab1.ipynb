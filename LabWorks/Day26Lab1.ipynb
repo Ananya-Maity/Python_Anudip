{
 "cells": [
  {
   "cell_type": "markdown",
   "id": "ee0c9042-bfe7-42ab-98b7-9ed81d8b86bf",
   "metadata": {},
   "source": [
    "Write a Pandas program to create a dataframe from a dictionary and\n",
    "display it.Sample data:\n",
    "score={'Math':[78,85,96,80,86], 'English':[84,94,89,83,86],'Hindi':[86,97,96,72,83]}"
   ]
  },
  {
   "cell_type": "code",
   "execution_count": 1,
   "id": "ce3b6b3b-a9b8-4402-9c47-2c98fc5d8f97",
   "metadata": {},
   "outputs": [],
   "source": [
    "import pandas as pd"
   ]
  },
  {
   "cell_type": "code",
   "execution_count": 2,
   "id": "31230593-9377-4282-93af-cfad696d708f",
   "metadata": {},
   "outputs": [],
   "source": [
    "#Sample Data set\n",
    "score={'Math':[78,85,96,80,86], \n",
    "       'English':[84,94,89,83,86],\n",
    "       'Hindi':[86,97,96,72,83]}"
   ]
  },
  {
   "cell_type": "code",
   "execution_count": 3,
   "id": "6596bb13-fcfc-4995-b5dd-0ca5d726acc8",
   "metadata": {},
   "outputs": [
    {
     "name": "stdout",
     "output_type": "stream",
     "text": [
      "   Math  English  Hindi\n",
      "0    78       84     86\n",
      "1    85       94     97\n",
      "2    96       89     96\n",
      "3    80       83     72\n",
      "4    86       86     83\n"
     ]
    }
   ],
   "source": [
    "#DataFrame() returns a data set in a table format\n",
    "df=pd.DataFrame(score)\n",
    "print(df)"
   ]
  }
 ],
 "metadata": {
  "kernelspec": {
   "display_name": "Python 3 (ipykernel)",
   "language": "python",
   "name": "python3"
  },
  "language_info": {
   "codemirror_mode": {
    "name": "ipython",
    "version": 3
   },
   "file_extension": ".py",
   "mimetype": "text/x-python",
   "name": "python",
   "nbconvert_exporter": "python",
   "pygments_lexer": "ipython3",
   "version": "3.12.0"
  }
 },
 "nbformat": 4,
 "nbformat_minor": 5
}
