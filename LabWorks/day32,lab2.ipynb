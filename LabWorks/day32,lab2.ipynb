{
 "cells": [
  {
   "cell_type": "markdown",
   "id": "c60e1434-da0d-4d3f-98f9-b5ad76354b0c",
   "metadata": {},
   "source": [
    "Lab2: Write a python program to read the Inches from the below .csv file\n",
    "and then Convert Inches to Centimeters using SciPy Constants. After that\n",
    "display the first 5 records and also save the calculated result into a new csv file.\n",
    "Input:\n",
    "https://raw.githubusercontent.com/AnudipAE/DANLC/master/people_heights.csv "
   ]
  },
  {
   "cell_type": "code",
   "execution_count": 1,
   "id": "ef498c88-3fc7-47fc-928c-40636fcbaf6c",
   "metadata": {},
   "outputs": [],
   "source": [
    "import pandas as pd\n",
    "import scipy \n",
    "from scipy import constants as cons"
   ]
  },
  {
   "cell_type": "code",
   "execution_count": 2,
   "id": "dafa1050-bdd5-480d-a037-494fc884b811",
   "metadata": {},
   "outputs": [
    {
     "name": "stdout",
     "output_type": "stream",
     "text": [
      "       Name  Height (inches)\n",
      "0  Person 1            60.03\n",
      "1  Person 2            49.51\n",
      "2  Person 3            82.97\n",
      "3  Person 4            64.19\n",
      "4  Person 5            54.42\n"
     ]
    }
   ],
   "source": [
    "# Read the csv file from the github link\n",
    "df=pd.read_csv(' https://raw.githubusercontent.com/AnudipAE/DANLC/master/people_heights.csv')\n",
    "# Display the first five rows\n",
    "print(df.head())"
   ]
  },
  {
   "cell_type": "code",
   "execution_count": 3,
   "id": "57f0ccfd-9282-4529-a991-6d2fd638408d",
   "metadata": {},
   "outputs": [
    {
     "name": "stdout",
     "output_type": "stream",
     "text": [
      "       Name  Height (inches)  Height(cm)\n",
      "0  Person 1            60.03    152.4762\n",
      "1  Person 2            49.51    125.7554\n",
      "2  Person 3            82.97    210.7438\n",
      "3  Person 4            64.19    163.0426\n",
      "4  Person 5            54.42    138.2268\n"
     ]
    }
   ],
   "source": [
    "# Calculating the height (inch to cm) from dataframe and putnthis height as Height(cm) name column into yhe dataframe\n",
    "df['Height(cm)']=cons.inch*df['Height (inches)']*100\n",
    "print(df.head())"
   ]
  },
  {
   "cell_type": "code",
   "execution_count": 4,
   "id": "c5b302e3-9bdb-4f57-b637-557f81811aa1",
   "metadata": {},
   "outputs": [
    {
     "name": "stdout",
     "output_type": "stream",
     "text": [
      "\n",
      "Calculated height results saved to: person_height.csv\n"
     ]
    }
   ],
   "source": [
    "# Save the dataframe with calculated height into a new .csv file. The new csv file name is \"person_height.csv\".\n",
    "output_file_path = \"person_height.csv\"\n",
    "df.to_csv(output_file_path, index=False)\n",
    "print(f\"\\nCalculated height results saved to: {output_file_path}\")"
   ]
  },
  {
   "cell_type": "code",
   "execution_count": null,
   "id": "c2e80c3e-c062-48aa-bd16-e1b0e3486d8f",
   "metadata": {},
   "outputs": [],
   "source": []
  }
 ],
 "metadata": {
  "kernelspec": {
   "display_name": "Python 3 (ipykernel)",
   "language": "python",
   "name": "python3"
  },
  "language_info": {
   "codemirror_mode": {
    "name": "ipython",
    "version": 3
   },
   "file_extension": ".py",
   "mimetype": "text/x-python",
   "name": "python",
   "nbconvert_exporter": "python",
   "pygments_lexer": "ipython3",
   "version": "3.12.0"
  }
 },
 "nbformat": 4,
 "nbformat_minor": 5
}
