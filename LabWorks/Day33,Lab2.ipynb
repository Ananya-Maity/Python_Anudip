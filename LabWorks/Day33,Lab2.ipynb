{
 "cells": [
  {
   "cell_type": "markdown",
   "id": "6f8393df-11c8-4942-8e47-48b12690c4d7",
   "metadata": {},
   "source": [
    "Lab2: Write a python program using Interpolation to fill in missing values in the\n",
    "data frame. Then generate a subject wise highest score in the form of a bar chart.\n",
    "Input:\n",
    "data = {\n",
    "'Subject': ['Math', 'Physics', 'Chemistry', 'Biology'],\n",
    "'Student_A': [80, 85, np.nan, 70],\n",
    "'Student_B': [90, np.nan, 75, 85],\n",
    "'Student_C': [80, 88, np.nan, 78]\n",
    "}"
   ]
  },
  {
   "cell_type": "code",
   "execution_count": 1,
   "id": "078be3c3-de0b-4fa5-bd94-5ea883412415",
   "metadata": {},
   "outputs": [],
   "source": [
    "import pandas as pd\n",
    "import numpy as np\n",
    "import matplotlib.pyplot as plt"
   ]
  },
  {
   "cell_type": "code",
   "execution_count": 2,
   "id": "ae2307e3-abe5-468f-a3c6-c0c0661b3c33",
   "metadata": {},
   "outputs": [],
   "source": [
    "# Input data\n",
    "data = {'Subject': ['Math', 'Physics', 'Chemistry', 'Biology'],\n",
    "        'Student_A': [80, 85, np.nan, 70],\n",
    "        'Student_B': [90, np.nan, 75, 85],\n",
    "        'Student_C': [80,88,np.nan,78]\n",
    "       }\n",
    "\n",
    "# Creating DataFrame\n",
    "df=pd.DataFrame(data)"
   ]
  },
  {
   "cell_type": "code",
   "execution_count": 3,
   "id": "a92ac655-ee2d-4c3e-abd8-d633e35e24cd",
   "metadata": {},
   "outputs": [
    {
     "name": "stdout",
     "output_type": "stream",
     "text": [
      "Original DataFrame:\n",
      "     Subject  Student_A  Student_B  Student_C\n",
      "0       Math       80.0       90.0       80.0\n",
      "1    Physics       85.0        NaN       88.0\n",
      "2  Chemistry        NaN       75.0        NaN\n",
      "3    Biology       70.0       85.0       78.0\n",
      "\n",
      "DataFrame after Interpolation:\n",
      "     Subject  Student_A  Student_B  Student_C\n",
      "0       Math       80.0       90.0       80.0\n",
      "1    Physics       85.0       82.5       88.0\n",
      "2  Chemistry       77.5       75.0       83.0\n",
      "3    Biology       70.0       85.0       78.0\n"
     ]
    },
    {
     "name": "stderr",
     "output_type": "stream",
     "text": [
      "C:\\Users\\anany\\AppData\\Local\\Temp\\ipykernel_13708\\439524166.py:2: FutureWarning: DataFrame.interpolate with object dtype is deprecated and will raise in a future version. Call obj.infer_objects(copy=False) before interpolating instead.\n",
      "  df_interpolated = df.interpolate(method='linear')\n"
     ]
    }
   ],
   "source": [
    "# Interpolating missing values\n",
    "df_interpolated = df.interpolate(method='linear')\n",
    "print(\"Original DataFrame:\")\n",
    "print(df)\n",
    "print(\"\\nDataFrame after Interpolation:\")\n",
    "print(df_interpolated)"
   ]
  },
  {
   "cell_type": "code",
   "execution_count": 4,
   "id": "7bd1fb2c-96dc-4f09-a95a-b16680032262",
   "metadata": {},
   "outputs": [
    {
     "data": {
      "image/png": "[encoded data removed]",
      "text/plain": [
       "<Figure size 500x300 with 1 Axes>"
      ]
     },
     "metadata": {},
     "output_type": "display_data"
    }
   ],
   "source": [
    "# Getting subject-wise highest scores\n",
    "df['Highest_Score']=df[['Student_A','Student_B','Student_C']].max(axis=1)\n",
    "\n",
    "# Plotting bar chart for subject-wise highest scores\n",
    "plt.figure(figsize=(5,3))\n",
    "plt.bar(df['Subject'], df['Highest_Score'], color='teal')\n",
    "plt.title('Subject-wise Highest Score')\n",
    "plt.xlabel('Subject')\n",
    "plt.ylabel('Highest Score')\n",
    "plt.show()"
   ]
  },
  {
   "cell_type": "markdown",
   "id": "f34d6f7b-6c22-423a-a1ff-4d40aeeae92b",
   "metadata": {},
   "source": [
    "Out of all the subjects, Math has the highest score and Chemistry has the lowest score"
   ]
  }
 ],
 "metadata": {
  "kernelspec": {
   "display_name": "Python 3 (ipykernel)",
   "language": "python",
   "name": "python3"
  },
  "language_info": {
   "codemirror_mode": {
    "name": "ipython",
    "version": 3
   },
   "file_extension": ".py",
   "mimetype": "text/x-python",
   "name": "python",
   "nbconvert_exporter": "python",
   "pygments_lexer": "ipython3",
   "version": "3.12.0"
  }
 },
 "nbformat": 4,
 "nbformat_minor": 5
}
