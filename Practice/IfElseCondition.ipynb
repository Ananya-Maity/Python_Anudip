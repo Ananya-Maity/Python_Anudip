{
 "cells": [
  {
   "cell_type": "code",
   "execution_count": null,
   "id": "7c4bd588-95e5-499a-b95e-c5a7c1da7d24",
   "metadata": {},
   "outputs": [],
   "source": [
    "#If-Else condition"
   ]
  },
  {
   "cell_type": "code",
   "execution_count": null,
   "id": "dab8ad86-815f-4916-b47f-3bcee8e157c0",
   "metadata": {},
   "outputs": [],
   "source": [
    "#1. Write a Python application that will accept a number & say odd or even using if-else condition "
   ]
  },
  {
   "cell_type": "code",
   "execution_count": 1,
   "id": "497fb341-068f-4692-b112-b81e2c50b388",
   "metadata": {},
   "outputs": [
    {
     "name": "stdin",
     "output_type": "stream",
     "text": [
      "Enter number: 36\n"
     ]
    },
    {
     "name": "stdout",
     "output_type": "stream",
     "text": [
      "36 is a even number\n"
     ]
    }
   ],
   "source": [
    "def odd_even():\n",
    "    n=int(input('Enter number:'))\n",
    "    if n%2==0:\n",
    "        print(n,'is a even number')\n",
    "    else:\n",
    "        print(n,'is a odd number')\n",
    "odd_even()\n",
    "    "
   ]
  },
  {
   "cell_type": "code",
   "execution_count": 8,
   "id": "c687e602-5c11-4806-b5cb-69dc3dca473f",
   "metadata": {},
   "outputs": [
    {
     "name": "stdin",
     "output_type": "stream",
     "text": [
      "Number: 81\n",
      "Number: 6\n",
      "Enter the operation: +/-/*// &\n"
     ]
    },
    {
     "name": "stdout",
     "output_type": "stream",
     "text": [
      "This is ERROR\n"
     ]
    }
   ],
   "source": [
    "#2.  Make a calculator \n",
    "def calculator():\n",
    "    p=float(input('Number:'))\n",
    "    q=float(input('Number:'))\n",
    "    operation=input('Enter the operation: +/-/*//')\n",
    "    if operation=='+':\n",
    "        a=p+q\n",
    "        print('Addition:',a)\n",
    "    elif operation=='-':\n",
    "        s=p-q\n",
    "        print('Substaction:',s)\n",
    "    elif operation=='*':\n",
    "        m=p*q\n",
    "        print('Multiplication:',m)\n",
    "    elif operation=='/':\n",
    "        d=p/q\n",
    "        print('Division:',d)\n",
    "    else:\n",
    "        print('This is ERROR')\n",
    "    \n",
    "    \n",
    "calculator()        "
   ]
  },
  {
   "cell_type": "code",
   "execution_count": 12,
   "id": "f16b0926-80a5-468f-97a2-53542d97006c",
   "metadata": {},
   "outputs": [
    {
     "name": "stdin",
     "output_type": "stream",
     "text": [
      "Enter 1st number 20\n",
      "Enter 2nd number 20\n"
     ]
    },
    {
     "name": "stdout",
     "output_type": "stream",
     "text": [
      "a is equal to b\n"
     ]
    }
   ],
   "source": [
    "#3. Check if two is greater than or less than or equal using if-else question\n",
    "#a>b  ==>a-b>b-b ==>a-b>0\n",
    "def comparison():\n",
    "    a=int(input('Enter 1st number'))\n",
    "    b=int(input('Enter 2nd number'))\n",
    "    if a>b:\n",
    "        print('a is grater than b')\n",
    "    elif a<b:\n",
    "        print('a is less than b')\n",
    "    elif a==b:\n",
    "        print('a is equal to b')\n",
    "comparison()\n"
   ]
  },
  {
   "cell_type": "code",
   "execution_count": 1,
   "id": "55589ef9-3865-4187-b955-0bd488413ae5",
   "metadata": {},
   "outputs": [
    {
     "name": "stdin",
     "output_type": "stream",
     "text": [
      "Enter User Name : Ananya Maity\n",
      "Enter Password : fnkjf\n"
     ]
    },
    {
     "name": "stdout",
     "output_type": "stream",
     "text": [
      "Login failed\n"
     ]
    }
   ],
   "source": [
    "#4. Develop a simple login System. Ask the user to enter a username and password,\n",
    "#and then check if they match a predefined username and password.\n",
    "#Print a success message if the login is successful, otherwise print an error message.\n",
    "\n",
    "def login_system():\n",
    "    #Define original user name and password\n",
    "    userName='Ananya Maity'\n",
    "    password='ana123'\n",
    "\n",
    "    #taking the user name input\n",
    "    enterName=input('Enter User Name :')\n",
    "\n",
    "    if enterName==userName:\n",
    "        enterpassword=input('Enter Password :')\n",
    "        if enterpassword==password:\n",
    "            print('Login is successful')\n",
    "        else:\n",
    "            print('Login failed')\n",
    "    else:\n",
    "        print('User not valid')\n",
    "login_system()\n",
    "    \n"
   ]
  },
  {
   "cell_type": "code",
   "execution_count": 9,
   "id": "571a2ec9-1f28-4046-b430-5781f8a69779",
   "metadata": {},
   "outputs": [
    {
     "name": "stdin",
     "output_type": "stream",
     "text": [
      "Enter 1st angle 30\n",
      "Enter 2nd angle 30\n",
      "Enter 3rd angle 120\n"
     ]
    },
    {
     "name": "stdout",
     "output_type": "stream",
     "text": [
      "YES 30 , 30 , 120 degree angles can make a triangle\n",
      "It is an Isoscales trianle\n"
     ]
    }
   ],
   "source": [
    "#5. Given three angles, determine if they can form a triangle.\n",
    "# If they can, classify the triangle as equilateral, isoscales, or scalene.\n",
    "\n",
    "def triangle_formation():\n",
    "    angle1=int(input('Enter 1st angle'))\n",
    "    angle2=int(input('Enter 2nd angle'))\n",
    "    angle3=int(input('Enter 3rd angle'))\n",
    "    if (angle1+angle2+angle3)==180:\n",
    "        print('YES',angle1,',',angle2,',',angle3,'degree angles can make a triangle')\n",
    "        if angle1==60 and angle2==60 and angle3==60:\n",
    "            print('It is an Equilateral trianle')\n",
    "        elif angle1==angle2 or angle1==angle3 or angle3==angle2:\n",
    "            print('It is an Isoscales trianle')\n",
    "        else:\n",
    "            print('It is a Scalene trianle')\n",
    "    else:\n",
    "        print('These angles cannot make a triangle ')\n",
    "triangle_formation()\n",
    "    \n",
    "            \n",
    "            \n",
    "    \n",
    "    "
   ]
  },
  {
   "cell_type": "code",
   "execution_count": 7,
   "id": "fa180534-1e05-427b-a024-fc7137183aa4",
   "metadata": {},
   "outputs": [
    {
     "name": "stdin",
     "output_type": "stream",
     "text": [
      "Enter a letter: k\n"
     ]
    },
    {
     "name": "stdout",
     "output_type": "stream",
     "text": [
      "It is a consonant\n"
     ]
    }
   ],
   "source": [
    "#6. Write a Python program that checks if a given character is a vowel or a consonant.\n",
    "def Letter():\n",
    "    letter=input('Enter a letter:')\n",
    "    vowels=['a','e','i','o','u']\n",
    "    \n",
    "    if len(letter)==1 and letter.isalpha():\n",
    "        if letter in vowels:\n",
    "           print('It is a vowel')\n",
    "        else:\n",
    "           print('It is a consonant')\n",
    "    else:\n",
    "        print('wrong input')\n",
    "    \n",
    "Letter()"
   ]
  },
  {
   "cell_type": "code",
   "execution_count": 1,
   "id": "9e6ae2a6-2800-4357-8e73-6dff9732b5cf",
   "metadata": {},
   "outputs": [
    {
     "name": "stdin",
     "output_type": "stream",
     "text": [
      "Enter a number: -100\n"
     ]
    },
    {
     "name": "stdout",
     "output_type": "stream",
     "text": [
      "-100 is a negative number\n"
     ]
    }
   ],
   "source": [
    "#7. Create a program that determines whether a given number is positive, negative, or zero.\n",
    "number= int(input('Enter a number:'))\n",
    "if number>0:\n",
    "    print(number,'is a positive number')\n",
    "elif number==0:\n",
    "    print(number,'is a zero')\n",
    "else:\n",
    "    print(number,'is a negative number')"
   ]
  },
  {
   "cell_type": "code",
   "execution_count": 9,
   "id": "284427a5-ad9b-45cf-a4c8-13b3e1dbb4e3",
   "metadata": {},
   "outputs": [
    {
     "name": "stdin",
     "output_type": "stream",
     "text": [
      "Enter a number: 18\n"
     ]
    },
    {
     "name": "stdout",
     "output_type": "stream",
     "text": [
      "He is adult\n"
     ]
    }
   ],
   "source": [
    "#8. Write a program that takes a person's age as input and prints whether they are a child (0-12), \n",
    "#teenager (13-17), adult (18-64), or senior (65 and older).\n",
    "\n",
    "age = int(input('Enter a number:'))\n",
    "if 0<=age<12:\n",
    "    print('He is child')\n",
    "elif 13<=age<17:\n",
    "    print('He is a teenager')\n",
    "elif 18<= age<64:\n",
    "    print('He is adult')\n",
    "elif 65>= age:\n",
    "    print('He is Senior')\n"
   ]
  },
  {
   "cell_type": "code",
   "execution_count": null,
   "id": "e2ecf713-862e-4db5-ad6f-5a2d8c85aa65",
   "metadata": {},
   "outputs": [],
   "source": []
  },
  {
   "cell_type": "code",
   "execution_count": null,
   "id": "a6fa3c2e-7288-47b2-b9d8-d9f8cb3a6639",
   "metadata": {},
   "outputs": [],
   "source": []
  }
 ],
 "metadata": {
  "kernelspec": {
   "display_name": "Python 3 (ipykernel)",
   "language": "python",
   "name": "python3"
  },
  "language_info": {
   "codemirror_mode": {
    "name": "ipython",
    "version": 3
   },
   "file_extension": ".py",
   "mimetype": "text/x-python",
   "name": "python",
   "nbconvert_exporter": "python",
   "pygments_lexer": "ipython3",
   "version": "3.12.0"
  }
 },
 "nbformat": 4,
 "nbformat_minor": 5
}
