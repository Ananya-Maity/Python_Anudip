{
 "cells": [
  {
   "cell_type": "code",
   "execution_count": null,
   "id": "8b115a10-72c8-46e8-ac9f-3df2212cb004",
   "metadata": {},
   "outputs": [],
   "source": [
    "#1.Operator and convertion"
   ]
  },
  {
   "cell_type": "code",
   "execution_count": 12,
   "id": "d5d0934b-f9eb-4bb1-a52e-d56d426ce88e",
   "metadata": {},
   "outputs": [
    {
     "name": "stdin",
     "output_type": "stream",
     "text": [
      "Enter 1st number 36\n",
      "Enter 2nd number 49\n"
     ]
    }
   ],
   "source": [
    "a=input('Enter 1st number')\n",
    "b=input('Enter 2nd number')"
   ]
  },
  {
   "cell_type": "code",
   "execution_count": 13,
   "id": "120aa80e-8868-4684-b787-2c2f686c9d16",
   "metadata": {},
   "outputs": [],
   "source": [
    "#  COnverts  our inputs(String) into integer using int() function\n",
    "x=int(a)\n",
    "y=int(b)"
   ]
  },
  {
   "cell_type": "code",
   "execution_count": 14,
   "id": "e6b9c67e-9b22-4f12-9c72-39b3578965b8",
   "metadata": {},
   "outputs": [],
   "source": [
    "#  Use mathematical operation in x and y.\n",
    "z=x+y"
   ]
  },
  {
   "cell_type": "code",
   "execution_count": 17,
   "id": "8414e840-39e6-40ad-9168-ad6f48889e00",
   "metadata": {},
   "outputs": [
    {
     "name": "stdout",
     "output_type": "stream",
     "text": [
      "85\n",
      "<class 'int'>\n"
     ]
    }
   ],
   "source": [
    "print(z)\n",
    "print(type(z)) #type() function uses for checking the type of the variable"
   ]
  },
  {
   "cell_type": "code",
   "execution_count": 21,
   "id": "73fd703d-58ee-4c44-9ae9-21f8a1fdc9d6",
   "metadata": {},
   "outputs": [
    {
     "name": "stdout",
     "output_type": "stream",
     "text": [
      "<class 'str'>\n",
      "Sum of Two integer:85\n"
     ]
    }
   ],
   "source": [
    "#  Converts out output(integer) into string using str()  function\n",
    "c=str(z)\n",
    "print(type(c))\n",
    "print('Sum of Two integer:'+c)"
   ]
  },
  {
   "cell_type": "code",
   "execution_count": 23,
   "id": "ab951f1d-39ac-4836-a3a3-7e37db288f6c",
   "metadata": {},
   "outputs": [
    {
     "name": "stdin",
     "output_type": "stream",
     "text": [
      "Enter 1st number 23\n",
      "Enter 2nd number 29\n"
     ]
    },
    {
     "name": "stdout",
     "output_type": "stream",
     "text": [
      "Sum of Two integer: 52\n",
      "Sum of Two integer:52\n"
     ]
    }
   ],
   "source": [
    "#1.or Shortcut interger input\n",
    "a=int(input('Enter 1st number'))\n",
    "b=int(input('Enter 2nd number'))\n",
    "c=a+b\n",
    "print('Sum of Two integer:',c)  #this c is integer type\n",
    "print('Sum of Two integer:'+str(c))  #this c  is converted into string type using str()"
   ]
  },
  {
   "cell_type": "code",
   "execution_count": 33,
   "id": "b299cdbb-0047-433c-aeb7-4b3ef1d5bd21",
   "metadata": {},
   "outputs": [
    {
     "name": "stdin",
     "output_type": "stream",
     "text": [
      "Enter the Radious: 5\n"
     ]
    },
    {
     "name": "stdout",
     "output_type": "stream",
     "text": [
      "Perimeter: 31.400000000000002 Meter\n",
      "Area: 78.5 Squremeter\n"
     ]
    }
   ],
   "source": [
    "#2. Write a programe that will accept the radious of a circle , then dispaly its perimeter and area\n",
    "r=float(input('Enter the Radious:'))  #input from keyboard\n",
    "p=2*3.14*r  #for calculate Perimeter of a Circle\n",
    "a=3.14*pow(r,2)  #for calculate Area of a Circle\n",
    "print('Perimeter:',str(p),'Meter')\n",
    "print('Area:',str(a),'Squremeter')"
   ]
  },
  {
   "cell_type": "code",
   "execution_count": 30,
   "id": "014ecb0d-ccd1-41c1-8414-4237328c66ea",
   "metadata": {},
   "outputs": [
    {
     "name": "stdin",
     "output_type": "stream",
     "text": [
      "Enter Kilometer: 65.21\n"
     ]
    },
    {
     "name": "stdout",
     "output_type": "stream",
     "text": [
      "65.21 kilometer = 21.035483870967738 Mile\n"
     ]
    }
   ],
   "source": [
    "#3. Write a Python programe to convert Kilometer to Miles  (1mile=3.1km or 1km= 1/3.1 mile)\n",
    "km=float(input('Enter Kilometer:'))\n",
    "mile=km/3.1\n",
    "print(str(km),'kilometer =',str(mile),'Mile')"
   ]
  },
  {
   "cell_type": "code",
   "execution_count": 32,
   "id": "01760424-0368-4834-97ae-e3b59c2f2977",
   "metadata": {},
   "outputs": [
    {
     "name": "stdin",
     "output_type": "stream",
     "text": [
      "Enter Principal Amount: 5000\n",
      "Enter rate of interest: 20\n",
      "Enter Time 5\n"
     ]
    },
    {
     "name": "stdout",
     "output_type": "stream",
     "text": [
      "Total Interest: 5000.0 Rs\n"
     ]
    }
   ],
   "source": [
    "# 4.Accept a Principal amount,accept rate of interest,Find total interest\n",
    "p=float(input('Enter Principal Amount:'))\n",
    "r=float(input('Enter rate of interest:'))\n",
    "t=int(input('Enter Time'))\n",
    "i=(p*r*t)/100\n",
    "print('Total Interest:',str(i),'Rs')"
   ]
  },
  {
   "cell_type": "code",
   "execution_count": null,
   "id": "3ac381fb-dfbd-4b87-9b9a-b3c087373577",
   "metadata": {},
   "outputs": [],
   "source": []
  }
 ],
 "metadata": {
  "kernelspec": {
   "display_name": "Python 3 (ipykernel)",
   "language": "python",
   "name": "python3"
  },
  "language_info": {
   "codemirror_mode": {
    "name": "ipython",
    "version": 3
   },
   "file_extension": ".py",
   "mimetype": "text/x-python",
   "name": "python",
   "nbconvert_exporter": "python",
   "pygments_lexer": "ipython3",
   "version": "3.12.0"
  }
 },
 "nbformat": 4,
 "nbformat_minor": 5
}
