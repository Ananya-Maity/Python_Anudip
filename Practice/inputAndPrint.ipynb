{
 "cells": [
  {
   "cell_type": "code",
   "execution_count": 1,
   "id": "7cabe9cc-8ab0-4d96-8904-b0f0e3e34182",
   "metadata": {},
   "outputs": [
    {
     "name": "stdin",
     "output_type": "stream",
     "text": [
      "Enter your name Ananya Maity\n"
     ]
    }
   ],
   "source": [
    "x=input('Enter your name')"
   ]
  },
  {
   "cell_type": "code",
   "execution_count": 2,
   "id": "4af6785d-67ca-47d9-8837-3d6cc208b297",
   "metadata": {},
   "outputs": [
    {
     "name": "stdout",
     "output_type": "stream",
     "text": [
      "Ananya Maity\n"
     ]
    }
   ],
   "source": [
    "print(x)"
   ]
  },
  {
   "cell_type": "code",
   "execution_count": null,
   "id": "9f6c8b23-5745-40f4-a8c8-26767952265a",
   "metadata": {},
   "outputs": [],
   "source": []
  }
 ],
 "metadata": {
  "kernelspec": {
   "display_name": "Python 3 (ipykernel)",
   "language": "python",
   "name": "python3"
  },
  "language_info": {
   "codemirror_mode": {
    "name": "ipython",
    "version": 3
   },
   "file_extension": ".py",
   "mimetype": "text/x-python",
   "name": "python",
   "nbconvert_exporter": "python",
   "pygments_lexer": "ipython3",
   "version": "3.12.0"
  }
 },
 "nbformat": 4,
 "nbformat_minor": 5
}
